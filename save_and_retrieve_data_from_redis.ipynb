{
 "cells": [
  {
   "cell_type": "code",
   "execution_count": 9,
   "metadata": {},
   "outputs": [],
   "source": [
    "import numpy as np\n",
    "import pandas as pd\n",
    "import redis"
   ]
  },
  {
   "cell_type": "code",
   "execution_count": 10,
   "metadata": {},
   "outputs": [],
   "source": [
    "r =redis.Redis(\n",
    "    host='host_id_of_redis_db',\n",
    "    port=port_no_after_redis_db_host_id,\n",
    "\n",
    "    password='password_of_redis_db'\n",
    ")"
   ]
  },
  {
   "cell_type": "code",
   "execution_count": null,
   "metadata": {},
   "outputs": [],
   "source": [
    "r.ping()"
   ]
  },
  {
   "cell_type": "code",
   "execution_count": 20,
   "metadata": {},
   "outputs": [],
   "source": [
    "import cv2\n",
    "from insightface.app import FaceAnalysis"
   ]
  },
  {
   "cell_type": "code",
   "execution_count": null,
   "metadata": {},
   "outputs": [],
   "source": [
    "faceapp=FaceAnalysis(name='buffalo_sc',\n",
    "                     root='insightface_model',\n",
    "                     )\n",
    "faceapp.prepare(ctx_id=0, det_size=(640,640),det_thresh=0.5)"
   ]
  },
  {
   "cell_type": "code",
   "execution_count": null,
   "metadata": {},
   "outputs": [],
   "source": [
    "person_name=input(\"enter your name: \")\n",
    "\n",
    "trials=3\n",
    "for i in range(trials):\n",
    "    role=input(\"\"\" \n",
    "               Please choose\n",
    "               1.Student\n",
    "               2.Teacher\n",
    "               \n",
    "               enter no between either 1 or 2:\n",
    "               \"\"\")\n",
    "    if role in ('1','2'):\n",
    "        if (role=='1'):\n",
    "            role='Student'\n",
    "        elif (role=='2'):\n",
    "            role='Teacher'\n",
    "        break\n",
    "    else:\n",
    "        print('please enter a valid no')\n",
    "        if (i==2):\n",
    "            print(\"max no of tries reached\")\n",
    "            role='Unknown'\n",
    "            break\n",
    "key=person_name+'@'+role\n",
    "print('Your name= ',person_name)\n",
    "print('Your role',role)\n",
    "print('Key=',key)\n",
    "\n",
    "\n",
    "    "
   ]
  },
  {
   "cell_type": "code",
   "execution_count": null,
   "metadata": {},
   "outputs": [],
   "source": [
    "cap=cv2.VideoCapture(0)\n",
    "face_embeddings=[]\n",
    "sample=0\n",
    "while True:\n",
    "    ret,frame=cap.read()\n",
    "    if ret == False:\n",
    "        print('Unable to read Camera')\n",
    "        break\n",
    "    results=faceapp.get(frame,max_num=1)\n",
    "    for res in results:\n",
    "        sample+=1\n",
    "        x1,y1,x2,y2=res['bbox'].astype(int)\n",
    "        cv2.rectangle(frame,(x1,y1),(x2,y2),(255,0,0),1)\n",
    "        embeddings=res['embedding']\n",
    "        face_embeddings.append(embeddings)\n",
    "    if sample>=200:\n",
    "            break \n",
    "    cv2.namedWindow(\"Frame\", cv2.WINDOW_GUI_EXPANDED)\n",
    "    cv2.imshow('Frame',frame)\n",
    "    if cv2.waitKey(1)==ord('q'):\n",
    "        break\n",
    "    \n",
    "cap.release()\n",
    "cv2.destroyAllWindows()"
   ]
  },
  {
   "cell_type": "code",
   "execution_count": null,
   "metadata": {},
   "outputs": [],
   "source": [
    "len(face_embeddings)"
   ]
  },
  {
   "cell_type": "code",
   "execution_count": null,
   "metadata": {},
   "outputs": [],
   "source": [
    "x_mean=np.asarray(face_embeddings).mean(axis=0)\n",
    "x_mean.shape"
   ]
  },
  {
   "cell_type": "code",
   "execution_count": null,
   "metadata": {},
   "outputs": [],
   "source": [
    "x_mean_bytes=x_mean.tobytes()\n",
    "r.hset(name='academy:register', key=key, value=x_mean_bytes)"
   ]
  },
  {
   "cell_type": "code",
   "execution_count": null,
   "metadata": {},
   "outputs": [],
   "source": [
    "\n"
   ]
  }
 ],
 "metadata": {
  "kernelspec": {
   "display_name": "myenv",
   "language": "python",
   "name": "python3"
  },
  "language_info": {
   "codemirror_mode": {
    "name": "ipython",
    "version": 3
   },
   "file_extension": ".py",
   "mimetype": "text/x-python",
   "name": "python",
   "nbconvert_exporter": "python",
   "pygments_lexer": "ipython3",
   "version": "3.11.11"
  }
 },
 "nbformat": 4,
 "nbformat_minor": 2
}
