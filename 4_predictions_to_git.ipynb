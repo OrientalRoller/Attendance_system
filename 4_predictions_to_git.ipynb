{
 "cells": [
  {
   "cell_type": "code",
   "execution_count": null,
   "metadata": {},
   "outputs": [],
   "source": [
    "import face_rec\n",
    "import numpy as np\n",
    "import pandas as pd\n",
    "import cv2\n",
    "import time\n",
    "from datetime import datetime\n",
    "\n",
    "import redis\n",
    "from insightface.app import FaceAnalysis\n",
    "from sklearn.metrics import pairwise"
   ]
  },
  {
   "cell_type": "code",
   "execution_count": null,
   "metadata": {},
   "outputs": [],
   "source": [
    "face_rec.r.ping()"
   ]
  },
  {
   "cell_type": "code",
   "execution_count": null,
   "metadata": {},
   "outputs": [],
   "source": [
    "name='academy:register'\n",
    "retrive_dict=face_rec.r.hgetall(name)\n",
    "retrive_series=pd.Series(retrive_dict)\n",
    "retrive_series=retrive_series.apply(lambda x: np.frombuffer(x,dtype=np.float32))\n",
    "index=retrive_series.index\n",
    "index=list(map(lambda x: x.decode(), index))\n",
    "retrive_series.index=index\n",
    "retrieve_df=retrive_series.to_frame().reset_index()\n",
    "retrieve_df.columns=['name_role','Facial_features']\n",
    "retrieve_df[['Name','Role']]=retrieve_df['name_role'].apply(lambda x: x.split('@')).apply(pd.Series)\n",
    "retrieve_df\n",
    "\n"
   ]
  },
  {
   "cell_type": "code",
   "execution_count": null,
   "metadata": {},
   "outputs": [],
   "source": [
    "retrieve_df['Facial_features'].apply(lambda x: len(x) if isinstance(x, np.ndarray) else None)\n"
   ]
  },
  {
   "cell_type": "code",
   "execution_count": null,
   "metadata": {},
   "outputs": [],
   "source": [
    "retrieve_df['Facial_features'].apply(lambda x: len(x) if isinstance(x, np.ndarray) else None)"
   ]
  },
  {
   "cell_type": "code",
   "execution_count": 6,
   "metadata": {},
   "outputs": [],
   "source": [
    "waitTime=30\n",
    "setTime=time.time()\n",
    "realtimepred=face_rec.RealTimePred()\n"
   ]
  },
  {
   "cell_type": "code",
   "execution_count": null,
   "metadata": {},
   "outputs": [],
   "source": [
    "cap = cv2.VideoCapture(0)\n",
    "\n",
    "while True:\n",
    "    ret, frame=cap.read()\n",
    "    \n",
    "    if ret == False:\n",
    "        break\n",
    "    \n",
    "    pred_frame=realtimepred.face_prediction(frame, retrieve_df, 'Facial_features', ['Name','Role'],thresh=0.5)\n",
    "    \n",
    "\n",
    "    \n",
    "   \n",
    "    cv2.imshow('frame',frame)\n",
    "    cv2.imshow('prediction',pred_frame)\n",
    "    timenow=time.time()\n",
    "    difftime=timenow-setTime\n",
    "    if difftime>=waitTime:\n",
    "        realtimepred.saveLogs_redis()\n",
    "        setTime=time.time()\n",
    "        \n",
    "        print('Save Data to redis database')\n",
    "        \n",
    "    \n",
    "    if cv2.waitKey(1)==27:\n",
    "        break\n",
    "cv2.destroyAllWindows()\n",
    "cap.release()\n",
    "    "
   ]
  },
  {
   "cell_type": "code",
   "execution_count": null,
   "metadata": {},
   "outputs": [],
   "source": [
    "\n",
    "# Check if the key exists\n",
    "key = \"attendence:logs\"\n",
    "\n",
    "if face_rec.r.exists(key):\n",
    "    # Retrieve all the data from the key\n",
    "    data = face_rec.r.lrange(key, 0, -1)  # Retrieve all elements from the list\n",
    "    print(f\"Contents of the key '{key}':\")\n",
    "    for item in data:\n",
    "        print(item)\n",
    "else:\n",
    "    print(f\"The key '{key}' does not exist in Redis.\")"
   ]
  }
 ],
 "metadata": {
  "kernelspec": {
   "display_name": "myenv",
   "language": "python",
   "name": "python3"
  },
  "language_info": {
   "codemirror_mode": {
    "name": "ipython",
    "version": 3
   },
   "file_extension": ".py",
   "mimetype": "text/x-python",
   "name": "python",
   "nbconvert_exporter": "python",
   "pygments_lexer": "ipython3",
   "version": "3.11.11"
  }
 },
 "nbformat": 4,
 "nbformat_minor": 2
}
